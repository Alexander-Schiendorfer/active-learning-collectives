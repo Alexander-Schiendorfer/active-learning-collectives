{
 "metadata": {
  "name": "samplingExperiment"
 },
 "nbformat": 3,
 "nbformat_minor": 0,
 "worksheets": [
  {
   "cells": [
    {
     "cell_type": "code",
     "collapsed": false,
     "input": [
      "import numpy as np\n",
      "import matplotlib.pyplot as plt\n",
      "import analysisUtils.analysisUtils as au\n",
      "import pylab\n",
      "import scipy.stats as st\n",
      "import GPy"
     ],
     "language": "python",
     "metadata": {},
     "outputs": [],
     "prompt_number": 1
    },
    {
     "cell_type": "code",
     "collapsed": false,
     "input": [
      "# read test file\n",
      "prefix = 'sampling/'\n",
      "testFile = prefix + 'test.csv'\n",
      "\n",
      "data = np.genfromtxt(testFile,dtype=float, delimiter=';', skip_header=0,names=True)\n",
      "print data['column_B']"
     ],
     "language": "python",
     "metadata": {},
     "outputs": [
      {
       "output_type": "stream",
       "stream": "stdout",
       "text": [
        "[ 17.  20.  23.]\n"
       ]
      }
     ],
     "prompt_number": 2
    },
    {
     "cell_type": "code",
     "collapsed": false,
     "input": [
      "cps = [50, 200, 500]\n",
      "sps = [5, 10, 15, 25, 35]\n",
      "\n",
      "costsColumn = 'Top_level_costs_regio_central'\n",
      "runtimeColumn = 'Total_runtime_regio_central'\n",
      "\n",
      "\n",
      "for cp in cps:\n",
      "    # load central file \n",
      "    \n",
      "    dataCentral = np.genfromtxt(prefix+'cp_'+str(cp)+'_.csv', dtype=float, delimiter=';', skip_header=0,names=True)\n",
      "    costsCentral = au.readCol(dataCentral,  'Top_level_costs_central') \n",
      "    meanCostsCentral = np.mean(costsCentral)\n",
      "    \n",
      "    runtimeCentral = au.readCol(dataCentral, 'Total_runtime_central')\n",
      "    meanTimeCentral = np.mean(runtimeCentral)\n",
      "        \n",
      "    print 'For ' + str(cp) + ' plants: Opt. Costs ', meanCostsCentral, ' Runtime Central ', meanTimeCentral\n",
      "    \n",
      "    allSpCosts = []\n",
      "    for sp in sps:\n",
      "        fileName = prefix + 'sps_'+str(sp)+ '_cp_'+str(cp)+'_.csv'\n",
      "        \n",
      "        data = np.genfromtxt(fileName,dtype=float, delimiter=';', skip_header=0,names=True)\n",
      "        costs = au.readCol(data, costsColumn)\n",
      "        meanCosts = np.mean(costs)\n",
      "        overShoot = meanCosts / meanCostsCentral\n",
      "        additionalCosts = meanCosts - meanCostsCentral\n",
      "        \n",
      "        runtime = au.readCol(data, runtimeColumn) \n",
      "        meanTime = np.mean(runtime)\n",
      "        \n",
      "        allSpCosts += [additionalCosts / cp]\n",
      "        print '  '+str(sp) + ' Sps: ' + str(meanCosts) + ' (+ ' + str(overShoot) + ' ; + ' + str(additionalCosts) + ' \u20ac ) / ' + str(meanTime)\n",
      "        \n",
      "    y_pos = np.arange(len(sps))\n",
      "    plt.bar(y_pos, allSpCosts, align='center', alpha=0.4)\n",
      "    plt.xticks(y_pos, sps)\n",
      "    plt.title(str(cp) + ' plants ')\n",
      "    plt.figure()"
     ],
     "language": "python",
     "metadata": {},
     "outputs": [
      {
       "output_type": "stream",
       "stream": "stdout",
       "text": [
        "For 50 plants: Opt. Costs  2180.70860152  Runtime Central  6.9299751808\n",
        "  5 Sps: 2187.73445677 (+ 1.00322182214 ; + 7.02585524524 \u20ac ) / 27.2947242019\n",
        "  10 Sps: 2184.30859122 (+ 1.00165083483 ; + 3.59998970299 \u20ac ) / 41.4176581546\n",
        "  15 Sps: 2183.45375808 (+ 1.00125883695 ; + 2.74515655707 \u20ac ) / 52.8120872461"
       ]
      },
      {
       "output_type": "stream",
       "stream": "stdout",
       "text": [
        "\n",
        "  25 Sps: 2182.05306845 (+ 1.00061652755 ; + 1.34446693238 \u20ac ) / 78.1143778371\n",
        "  35 Sps: 2181.89756481 (+ 1.00054521878 ; + 1.18896328445 \u20ac ) / 106.864988682\n",
        "For 200 plants: Opt. Costs "
       ]
      },
      {
       "output_type": "stream",
       "stream": "stdout",
       "text": [
        " 8587.10311621  Runtime Central  56.3830966762\n",
        "  5 Sps: 8717.41081394 (+ 1.0151748146 ; + 130.307697733 \u20ac ) / 107.054980488"
       ]
      },
      {
       "output_type": "stream",
       "stream": "stdout",
       "text": [
        "\n",
        "  10 Sps: 8671.0749875 (+ 1.00977883579 ; + 83.971871293 \u20ac ) / 172.88823309"
       ]
      },
      {
       "output_type": "stream",
       "stream": "stdout",
       "text": [
        "\n",
        "  15 Sps: 8713.46094086 (+ 1.01471483723 ; + 126.35782465 \u20ac ) / 225.948511393"
       ]
      },
      {
       "output_type": "stream",
       "stream": "stdout",
       "text": [
        "\n",
        "  25 Sps: 8618.24372105 (+ 1.00362643891 ; + 31.1406048427 \u20ac ) / 329.837883109"
       ]
      },
      {
       "output_type": "stream",
       "stream": "stdout",
       "text": [
        "\n",
        "  35 Sps: 8616.31100852 (+ 1.00340136737 ; + 29.2078923145 \u20ac ) / 460.119622181"
       ]
      },
      {
       "output_type": "stream",
       "stream": "stdout",
       "text": [
        "\n",
        "For 500 plants: Opt. Costs  21157.7182061  Runtime Central  208.723564949\n",
        "  5 Sps: 21393.5325794 (+ 1.01114554845 ; + 235.814373296 \u20ac ) / 244.003133418"
       ]
      },
      {
       "output_type": "stream",
       "stream": "stdout",
       "text": [
        "\n",
        "  10 Sps: 21428.2394027 (+ 1.01278593438 ; + 270.521196574 \u20ac ) / 357.594805563"
       ]
      },
      {
       "output_type": "stream",
       "stream": "stdout",
       "text": [
        "\n",
        "  15 Sps: 21339.9226693 (+ 1.00861172559 ; + 182.204463221 \u20ac ) / 470.31848035"
       ]
      },
      {
       "output_type": "stream",
       "stream": "stdout",
       "text": [
        "\n",
        "  25 Sps: 21180.4995945 (+ 1.00107674127 ; + 22.7813884284 \u20ac ) / 694.298222776"
       ]
      },
      {
       "output_type": "stream",
       "stream": "stdout",
       "text": [
        "\n",
        "  35 Sps: 21176.5500575 (+ 1.00089007006 ; + 18.831851436 \u20ac ) / 934.632445593"
       ]
      },
      {
       "output_type": "stream",
       "stream": "stdout",
       "text": [
        "\n"
       ]
      },
      {
       "output_type": "display_data",
       "png": "[encoded data removed]"
      },
      {
       "output_type": "display_data",
       "png": "[encoded data removed]"
      },
      {
       "output_type": "display_data",
       "png": "[encoded data removed]"
      }
     ],
     "prompt_number": 3
    },
    {
     "cell_type": "code",
     "collapsed": false,
     "input": [
      "cps = [50, 200, 500]\n",
      "sps = [5, 10, 15, 25, 35]\n",
      "\n",
      "costsColumn = 'Top_level_costs_regio_central'\n",
      "runtimeColumn = 'Total_runtime_regio_central'\n",
      "\n",
      "allOffSetCosts = { 5 : [],\n",
      "                   10: [],\n",
      "                   15 : [],\n",
      "                   25 : [],\n",
      "                   35 : [] }# for sp = 5 a list (50, 200, 500), for sp = 10 a list (50, 200, 500) ...\n",
      "\n",
      "allOffSetCostsStd = { 5 : [],\n",
      "                   10: [],\n",
      "                   15: [],\n",
      "                   25 : [],\n",
      "                   35 : [] }# for sp = 5 a list (50, 200, 500), for sp = 10 a list (50, 200, 500) ...\n",
      "\n",
      "allRuntimes = { 5 : [],\n",
      "                   10: [],\n",
      "                   15 : [],\n",
      "                   25 : [],\n",
      "                   35 : [] }# for sp = 5 a list (50, 200, 500), for sp = 10 a list (50, 200, 500) ...\n",
      "for cp in cps:\n",
      "    # load central file \n",
      "    \n",
      "    dataCentral = np.genfromtxt(prefix+'cp_'+str(cp)+'_.csv', dtype=float, delimiter=';', skip_header=0,names=True)\n",
      "    costsCentral = au.readCol(dataCentral,  'Top_level_costs_central') \n",
      "    meanCostsCentral = np.mean(costsCentral)\n",
      "    \n",
      "    runtimeCentral = au.readCol(dataCentral, 'Total_runtime_central')\n",
      "    meanTimeCentral = np.mean(runtimeCentral)\n",
      "        \n",
      "    print 'For ' + str(cp) + ' plants: Opt. Costs ', meanCostsCentral, ' Runtime Central ', meanTimeCentral\n",
      "    \n",
      "    allSpCosts = []\n",
      "    for sp in sps:\n",
      "        fileName = prefix + 'sps_'+str(sp)+ '_cp_'+str(cp)+'_.csv'\n",
      "        \n",
      "        data = np.genfromtxt(fileName,dtype=float, delimiter=';', skip_header=0,names=True)\n",
      "        costs = au.readCol(data, costsColumn)\n",
      "        \n",
      "        allExtraCosts = costs - costsCentral\n",
      "        meanExtraCosts = np.mean(allExtraCosts)\n",
      "        overShoot = meanExtraCosts / meanCostsCentral\n",
      "        stdExtraCosts = np.sqrt(np.std(allExtraCosts))\n",
      "        stdExtraCosts = 0.25 * np.std(allExtraCosts)\n",
      "      \n",
      "        allOffSetCosts[sp] += [meanExtraCosts / cp]\n",
      "        allOffSetCostsStd[sp] += [stdExtraCosts / cp]\n",
      "                                  \n",
      "        runtime = au.readCol(data, runtimeColumn) \n",
      "        meanTime = np.mean(runtime)\n",
      "\n",
      "        print '  '+str(sp) + ' Sps: ' + str(meanExtraCosts) + ' (+ ' + str(overShoot) + ' ; + ' + str(meanExtraCosts) + ' \u20ac ) / ' + str(meanTime)\n",
      "        \n",
      "    #y_pos = np.arange(len(sps))\n",
      "    #plt.bar(y_pos, allSpCosts, align='center', alpha=0.4)\n",
      "    #plt.xticks(y_pos, sps)\n",
      "    #plt.title(str(cp) + ' plants ')\n",
      "    #plt.figure()\n",
      "    "
     ],
     "language": "python",
     "metadata": {},
     "outputs": [
      {
       "output_type": "stream",
       "stream": "stdout",
       "text": [
        "For 50 plants: Opt. Costs  2180.70860152  Runtime Central  6.9299751808\n",
        "  5 Sps: 7.02585524524 (+ 0.00322182213632 ; + 7.02585524524 \u20ac ) / 27.2947242019\n",
        "  10 Sps: 3.599989703 (+ 0.0016508348252 ; + 3.599989703 \u20ac ) / 41.4176581546\n",
        "  15 Sps: 2.74515655707 (+ 0.00125883694647 ; + 2.74515655707 \u20ac ) / 52.8120872461\n",
        "  25 Sps: 1.34446693238 (+ 0.000616527550469 ; + 1.34446693238 \u20ac ) / 78.1143778371"
       ]
      },
      {
       "output_type": "stream",
       "stream": "stdout",
       "text": [
        "\n",
        "  35 Sps: 1.18896328445 (+ 0.000545218780549 ; + 1.18896328445 \u20ac ) / 106.864988682\n",
        "For 200 plants: Opt. Costs  8587.10311621  Runtime Central  56.3830966762\n",
        "  5 Sps: 130.307697733 (+ 0.0151748145992 ; + 130.307697733 \u20ac ) / 107.054980488"
       ]
      },
      {
       "output_type": "stream",
       "stream": "stdout",
       "text": [
        "\n",
        "  10 Sps: 83.971871293 (+ 0.00977883579091 ; + 83.971871293 \u20ac ) / 172.88823309"
       ]
      },
      {
       "output_type": "stream",
       "stream": "stdout",
       "text": [
        "\n",
        "  15 Sps: 126.35782465 (+ 0.0147148372321 ; + 126.35782465 \u20ac ) / 225.948511393"
       ]
      },
      {
       "output_type": "stream",
       "stream": "stdout",
       "text": [
        "\n",
        "  25 Sps: 31.1406048427 (+ 0.00362643890742 ; + 31.1406048427 \u20ac ) / 329.837883109"
       ]
      },
      {
       "output_type": "stream",
       "stream": "stdout",
       "text": [
        "\n",
        "  35 Sps: 29.2078923145 (+ 0.00340136736676 ; + 29.2078923145 \u20ac ) / 460.119622181"
       ]
      },
      {
       "output_type": "stream",
       "stream": "stdout",
       "text": [
        "\n",
        "For 500 plants: Opt. Costs  21157.7182061  Runtime Central  208.723564949\n",
        "  5 Sps: 235.814373296 (+ 0.0111455484471 ; + 235.814373296 \u20ac ) / 244.003133418"
       ]
      },
      {
       "output_type": "stream",
       "stream": "stdout",
       "text": [
        "\n",
        "  10 Sps: 270.521196574 (+ 0.0127859343781 ; + 270.521196574 \u20ac ) / 357.594805563"
       ]
      },
      {
       "output_type": "stream",
       "stream": "stdout",
       "text": [
        "\n",
        "  15 Sps: 182.204463221 (+ 0.0086117255862 ; + 182.204463221 \u20ac ) / 470.31848035"
       ]
      },
      {
       "output_type": "stream",
       "stream": "stdout",
       "text": [
        "\n",
        "  25 Sps: 22.7813884284 (+ 0.00107674127269 ; + 22.7813884284 \u20ac ) / 694.298222776"
       ]
      },
      {
       "output_type": "stream",
       "stream": "stdout",
       "text": [
        "\n",
        "  35 Sps: 18.831851436 (+ 0.000890070056352 ; + 18.831851436 \u20ac ) / 934.632445593"
       ]
      },
      {
       "output_type": "stream",
       "stream": "stdout",
       "text": [
        "\n"
       ]
      }
     ],
     "prompt_number": 12
    },
    {
     "cell_type": "code",
     "collapsed": false,
     "input": [
      "N = len(cps)\n",
      "ind = np.arange(N)\n",
      "width = 0.15\n",
      "\n",
      "# find gray values\n",
      "\n",
      "colors =  { 5 : '0.95', 10: '0.8', 15 : '0.65', 25 : '0.45', 35 : '0.25' }\n",
      "hatches = { 5 : '//', 10: '\\\\\\\\', 15 : 'x', 25 : 'o', 35 : '-' }\n",
      "fig, ax = plt.subplots()\n",
      "i = 0\n",
      "for sp in sps:\n",
      "    rects = ax.bar(ind+i*width, allOffSetCosts[sp], width, color=colors[sp], yerr = allOffSetCostsStd[sp], ecolor='black', hatch = hatches[sp], label=str(sp) + ' sps')\n",
      "    i+=1\n",
      "    \n",
      "ax.set_ylabel('Extra costs per plant (EUR)') \n",
      "ax.set_xticks(ind+width)\n",
      "ax.set_xticklabels(cps)\n",
      "ax.set_xlabel('Problem sizes (\\# plants)')\n",
      "plt.legend(loc=2)\n",
      "savefig('SamplingCosts.pdf')\n",
      "plt.show()"
     ],
     "language": "python",
     "metadata": {},
     "outputs": [
      {
       "output_type": "display_data",
       "png": "[encoded data removed]"
      }
     ],
     "prompt_number": 13
    },
    {
     "cell_type": "code",
     "collapsed": false,
     "input": [
      "from pylab import arange,pi,sin,cos,sqrt\n",
      "fig_width_pt = 400  # Get this from LaTeX using \\showthe\\columnwidth\n",
      "inches_per_pt = 1.0/72.27               # Convert pt to inch\n",
      "golden_mean = (sqrt(5)-1.0)/2.0         # Aesthetic ratio\n",
      "fig_width = fig_width_pt*inches_per_pt  # width in inches\n",
      "fig_height = fig_width*golden_mean      # height in inches\n",
      "fig_size =  [fig_width,fig_height]\n",
      "params = {'backend': 'ps',\n",
      "          'axes.labelsize': 12,\n",
      "          'text.fontsize': 12,\n",
      "          'legend.fontsize': 12,\n",
      "          'xtick.labelsize': 10,\n",
      "          'ytick.labelsize': 10,\n",
      "          'text.usetex': True,\n",
      "          'figure.figsize': fig_size}\n",
      "pylab.rcParams.update(params)"
     ],
     "language": "python",
     "metadata": {},
     "outputs": [],
     "prompt_number": 6
    },
    {
     "cell_type": "code",
     "collapsed": false,
     "input": [
      "cps = [50, 200, 500]\n",
      "sps = [5, 10, 15, 25, 35]\n",
      "\n",
      "costsColumn = 'Top_level_costs_regio_central'\n",
      "runtimeColumn = 'Total_runtime_regio_central'\n",
      "\n",
      "\n",
      "topString = \"\\\\begin{tabular*}{\\\\textwidth}{@{\\extracolsep{\\\\fill} }l\"\n",
      "cols = 5\n",
      "singleCol = \"d{3}\"\n",
      "colString = singleCol * cols\n",
      "topString = topString + colString + \"}\"\n",
      "print topString\n",
      "print \"\\\\toprule\"\n",
      "\n",
      "colHeaders = ['\\# sampling points', 'costs per step', 'rel. overhead', 'abs. overhead', 'runtime']\n",
      "headers = \"\"\n",
      "first = True \n",
      "for h in colHeaders:\n",
      "    if(first):\n",
      "        first = False\n",
      "    else:\n",
      "        headers = headers + \" & \"\n",
      "    headers = headers + \"\\multicolumn{1}{c}{\"+h+\"}\"\n",
      "\n",
      "print headers + \"\\\\\\\\\"\n",
      "\n",
      "for cp in cps:\n",
      "    # load central file \n",
      "    \n",
      "    dataCentral = np.genfromtxt(prefix+'cp_'+str(cp)+'_.csv', dtype=float, delimiter=';', skip_header=0,names=True)\n",
      "    costsCentral = au.readCol(dataCentral,  'Top_level_costs_central') \n",
      "    meanCostsCentral = np.mean(costsCentral)\n",
      "    stdCostsCentral = np.std(costsCentral)\n",
      "    \n",
      "    runtimeCentral = au.readCol(dataCentral, 'Total_runtime_central')\n",
      "    meanTimeCentral = np.mean(runtimeCentral)\n",
      "    stdTimeCentral = np.std(runtimeCentral)\n",
      "    print '\\midrule'    \n",
      "    print '\\multicolumn{'+str(cols)+'}{l}{'+str(cp) + ' power plants : } \\\\\\\\' # (Mean Opt. Costs ', np.around(meanCostsCentral, 2),' ):  \\\\\\\\' # Opt. Costs ', meanCostsCentral, ' Runtime Central ', meanTimeCentral\n",
      "    print '\\midrule'    \n",
      "    allSpCosts = []\n",
      "    for sp in sps:\n",
      "        fileName = prefix + 'sps_'+str(sp)+ '_cp_'+str(cp)+'_.csv'\n",
      "        \n",
      "        data = np.genfromtxt(fileName,dtype=float, delimiter=';', skip_header=0,names=True)\n",
      "        costs = au.readCol(data, costsColumn)\n",
      "        \n",
      "        allExtraCosts = costs - costsCentral\n",
      "        meanExtraCosts = np.mean(allExtraCosts)\n",
      "        \n",
      "        allOverShoots = ((costs / costsCentral ) - 1) * 100\n",
      "        stdOvershoot = np.std(allOverShoots)\n",
      "        overShoot = meanExtraCosts / meanCostsCentral\n",
      "        stdExtraCosts = np.sqrt(np.std(allExtraCosts))\n",
      "            \n",
      "        meanCosts = np.mean(costs)\n",
      "        stdCosts = np.std(costs)\n",
      "        overShoot = ((meanCosts / meanCostsCentral) - 1) * 100\n",
      "        additionalCosts = meanCosts - meanCostsCentral\n",
      "        \n",
      "        runtime = au.readCol(data, runtimeColumn) \n",
      "        meanTime = np.mean(runtime)\n",
      "        stdTime = np.std(runtime)\n",
      "        \n",
      "        allSpCosts += [additionalCosts / cp]\n",
      "        print '  '+str(sp) + ' sps & ' + str(np.around(meanCosts, 2)) + '~$\\euro$ ~('+str(np.around(stdCosts, 2))+')& + ' + str(np.around(overShoot, 2)) + ' \\% ~('+str(np.around(stdOvershoot, 2))+')& + ' + str(np.around(additionalCosts, 2)) + ' ~$\\euro$ ~('+str(np.around(stdExtraCosts, 2))+') & ' + str(np.around(meanTime, 2)) + \" ~\\\\text{sec} ~(\"+str(np.around(stdTime, 2)) +\") \\\\\\\\\"\n",
      "    print '  \\\\emph{Optimum} & ' + au.boldify(str(np.around(meanCostsCentral, 2))) + \"~$\\euro$ ~(\"+str(np.around(stdCostsCentral, 2))+ \") \\\\\\\\\"\n",
      "print '\\\\bottomrule'\n",
      "print '\\end{tabular*}'\n",
      "        "
     ],
     "language": "python",
     "metadata": {},
     "outputs": [
      {
       "output_type": "stream",
       "stream": "stdout",
       "text": [
        "\\begin{tabular*}{\\textwidth}{@{\\extracolsep{\\fill} }ld{3}d{3}d{3}d{3}d{3}}\n",
        "\\toprule\n",
        "\\multicolumn{1}{c}{\\# sampling points} & \\multicolumn{1}{c}{costs per step} & \\multicolumn{1}{c}{rel. overhead} & \\multicolumn{1}{c}{abs. overhead} & \\multicolumn{1}{c}{runtime}\\\\\n",
        "\\midrule\n",
        "\\multicolumn{5}{l}{50 power plants : } \\\\\n",
        "\\midrule\n",
        "  5 sps & 2187.73~$\\euro$ ~(453.57)& + 0.32 \\% ~(0.29)& + 7.03 ~$\\euro$ ~(2.37) & 27.29 ~\\text{sec} ~(2.82) \\\\\n",
        "  10 sps & 2184.31~$\\euro$ ~(453.87)& + 0.17 \\% ~(0.16)& + 3.6 ~$\\euro$ ~(1.79) & 41.42 ~\\text{sec} ~(4.16) \\\\\n",
        "  15 sps & 2183.45~$\\euro$ ~(453.72)& + 0.13 \\% ~(0.15)& + 2.75 ~$\\euro$ ~(1.77) & 52.81 ~\\text{sec} ~(2.52) \\\\\n",
        "  25 sps & 2182.05~$\\euro$ ~(454.01)& + 0.06 \\% ~(0.06)& + 1.34 ~$\\euro$ ~(1.1) & 78.11 ~\\text{sec} ~(2.92) \\\\"
       ]
      },
      {
       "output_type": "stream",
       "stream": "stdout",
       "text": [
        "\n",
        "  35 sps & 2181.9~$\\euro$ ~(453.86)& + 0.05 \\% ~(0.07)& + 1.19 ~$\\euro$ ~(1.15) & 106.86 ~\\text{sec} ~(3.67) \\\\\n",
        "  \\emph{Optimum} & \\textbf{2180}.\\textbf{71}~$\\euro$ ~(453.91) \\\\\n",
        "\\midrule\n",
        "\\multicolumn{5}{l}{200 power plants : } \\\\\n",
        "\\midrule\n",
        "  5 sps & 8717.41~$\\euro$ ~(1014.05)& + 1.52 \\% ~(1.53)& + 130.31 ~$\\euro$ ~(12.28) & 107.05 ~\\text{sec} ~(3.61) \\\\"
       ]
      },
      {
       "output_type": "stream",
       "stream": "stdout",
       "text": [
        "\n",
        "  10 sps & 8671.07~$\\euro$ ~(975.07)& + 0.98 \\% ~(1.36)& + 83.97 ~$\\euro$ ~(11.2) & 172.89 ~\\text{sec} ~(33.44) \\\\"
       ]
      },
      {
       "output_type": "stream",
       "stream": "stdout",
       "text": [
        "\n",
        "  15 sps & 8713.46~$\\euro$ ~(995.13)& + 1.47 \\% ~(2.22)& + 126.36 ~$\\euro$ ~(14.02) & 225.95 ~\\text{sec} ~(43.85) \\\\"
       ]
      },
      {
       "output_type": "stream",
       "stream": "stdout",
       "text": [
        "\n",
        "  25 sps & 8618.24~$\\euro$ ~(938.57)& + 0.36 \\% ~(0.83)& + 31.14 ~$\\euro$ ~(8.27) & 329.84 ~\\text{sec} ~(20.76) \\\\"
       ]
      },
      {
       "output_type": "stream",
       "stream": "stdout",
       "text": [
        "\n",
        "  35 sps & 8616.31~$\\euro$ ~(952.83)& + 0.34 \\% ~(0.7)& + 29.21 ~$\\euro$ ~(8.14) & 460.12 ~\\text{sec} ~(51.72) \\\\"
       ]
      },
      {
       "output_type": "stream",
       "stream": "stdout",
       "text": [
        "\n",
        "  \\emph{Optimum} & \\textbf{8587}.\\textbf{1}~$\\euro$ ~(938.36) \\\\\n",
        "\\midrule\n",
        "\\multicolumn{5}{l}{500 power plants : } \\\\\n",
        "\\midrule\n",
        "  5 sps & 21393.53~$\\euro$ ~(1885.9)& + 1.11 \\% ~(1.08)& + 235.81 ~$\\euro$ ~(14.97) & 244.0 ~\\text{sec} ~(11.28) \\\\"
       ]
      },
      {
       "output_type": "stream",
       "stream": "stdout",
       "text": [
        "\n",
        "  10 sps & 21428.24~$\\euro$ ~(1868.18)& + 1.28 \\% ~(1.16)& + 270.52 ~$\\euro$ ~(15.51) & 357.59 ~\\text{sec} ~(10.71) \\\\"
       ]
      },
      {
       "output_type": "stream",
       "stream": "stdout",
       "text": [
        "\n",
        "  15 sps & 21339.92~$\\euro$ ~(1870.11)& + 0.86 \\% ~(0.99)& + 182.2 ~$\\euro$ ~(14.37) & 470.32 ~\\text{sec} ~(18.24) \\\\"
       ]
      },
      {
       "output_type": "stream",
       "stream": "stdout",
       "text": [
        "\n",
        "  25 sps & 21180.5~$\\euro$ ~(1853.91)& + 0.11 \\% ~(0.04)& + 22.78 ~$\\euro$ ~(2.86) & 694.3 ~\\text{sec} ~(43.68) \\\\"
       ]
      },
      {
       "output_type": "stream",
       "stream": "stdout",
       "text": [
        "\n",
        "  35 sps & 21176.55~$\\euro$ ~(1853.2)& + 0.09 \\% ~(0.09)& + 18.83 ~$\\euro$ ~(4.28) & 934.63 ~\\text{sec} ~(26.98) \\\\"
       ]
      },
      {
       "output_type": "stream",
       "stream": "stdout",
       "text": [
        "\n",
        "  \\emph{Optimum} & \\textbf{21157}.\\textbf{72}~$\\euro$ ~(1853.51) \\\\\n",
        "\\bottomrule\n",
        "\\end{tabular*}\n"
       ]
      }
     ],
     "prompt_number": 7
    },
    {
     "cell_type": "code",
     "collapsed": false,
     "input": [
      "cps = [50, 200, 500]\n",
      "sps = [5, 10, 15, 25, 35]\n",
      "\n",
      "costsColumn = 'Top_level_costs_regio_central'\n",
      "runtimeColumn = 'Total_runtime_regio_central'\n",
      "\n",
      "\n",
      "for cp in cps:\n",
      "    # load central file \n",
      "    \n",
      "    allSpCosts = []\n",
      "    \n",
      "    \n",
      "    allCosts = { 5 : [],\n",
      "                 15 : [],\n",
      "                 25 : [],\n",
      "                 35 : [] }\n",
      "    print '--------------------------'\n",
      "    print 'Considering ', str(cp), ' plants'\n",
      "    for sp in sps:\n",
      "        fileName = prefix + 'sps_'+str(sp)+ '_cp_'+str(cp)+'_.csv'\n",
      "        \n",
      "        data = np.genfromtxt(fileName,dtype=float, delimiter=';', skip_header=0,names=True)\n",
      "        costs = au.readCol(data, costsColumn)\n",
      "        \n",
      "        allCosts[sp] = costs\n",
      "    \n",
      "    for sp in sps:\n",
      "        print 'Comparing ',sp,' to optimal solution: '\n",
      "        dataCentral = np.genfromtxt(prefix+'cp_'+str(cp)+'_.csv', dtype=float, delimiter=';', skip_header=0,names=True)\n",
      "        costsCentral = au.readCol(dataCentral,  'Top_level_costs_central') \n",
      "        costsSp = np.array(allCosts[sp])\n",
      "        [t, prob] = st.ttest_rel(np.array(allCosts[sp]), np.array(costsCentral))\n",
      "        print 't: ', t, ' prob: ', prob\n",
      "\n",
      "        if prob < 0.01:\n",
      "            print '    SIGNIFICANT'\n",
      "        else:\n",
      "            print '    insignficant'\n",
      "        \n",
      "        for otherSp in sps:\n",
      "            if otherSp > sp:\n",
      "                costsOtherSp = np.array(allCosts[otherSp])\n",
      "                np.array(allCosts[sp])\n",
      "                print 'testing : ', sp, ' and ', otherSp\n",
      "                #print '  var ', sp, ' : ', np.var(costsSp)\n",
      "                #print '  var ', otherSp, ' : ', np.var(np.array(allCosts[otherSp]))\n",
      "                #print '  bartlett, ', st.bartlett(costsOtherSp, costsSp)                               \n",
      "                \n",
      "                [t, prob] = st.ttest_rel(np.array(allCosts[sp]), np.array(allCosts[otherSp]))\n",
      "                print '  t: ', t, ' prob: ', prob\n",
      "\n",
      "                if prob < 0.01:\n",
      "                    print '    SIGNIFICANT'\n",
      "                else:\n",
      "                    print '    insignficant'\n",
      "                       \n",
      "    print '------------------------'"
     ],
     "language": "python",
     "metadata": {},
     "outputs": [
      {
       "output_type": "stream",
       "stream": "stdout",
       "text": [
        "--------------------------\n",
        "Considering  50  plants\n",
        "Comparing "
       ]
      },
      {
       "output_type": "stream",
       "stream": "stdout",
       "text": [
        " 5  to optimal solution: \n",
        "t:  19.786969805  prob:  5.27648947667e-53\n",
        "    SIGNIFICANT\n",
        "testing :  5  and  10\n",
        "  t:  9.76691653978  prob:  2.76298312738e-19\n",
        "    SIGNIFICANT\n",
        "testing :  5  and  15\n",
        "  t:  11.3538893479  prob:  2.37423459545e-24\n",
        "    SIGNIFICANT\n",
        "testing :  5  and  25\n",
        "  t:  16.8457852209  prob:  5.13141065328e-43\n",
        "    SIGNIFICANT\n",
        "testing :  5  and  35\n",
        "  t:  17.207765701  prob:  2.94643959458e-44\n",
        "    SIGNIFICANT\n",
        "Comparing  10  to optimal solution: \n",
        "t:  17.6846161866  prob:  6.89184483104e-46\n",
        "    SIGNIFICANT\n",
        "testing :  10  and  15\n",
        "  t:  3.72047251117  prob:  0.000245795213229\n",
        "    SIGNIFICANT\n",
        "testing :  10  and  25\n",
        "  t:  12.4086095886  prob:  7.57614762219e-28\n",
        "    SIGNIFICANT\n",
        "testing :  10  and  35\n",
        "  t:  12.4532018339  prob:  5.36978094445e-28\n",
        "    SIGNIFICANT\n",
        "Comparing  15  to optimal solution: \n",
        "t:  13.8799897435  prob:  7.85999976866e-33\n",
        "    SIGNIFICANT\n",
        "testing :  15  and  25\n",
        "  t:  8.17593321325  prob:  1.50153151191e-14\n",
        "    SIGNIFICANT\n",
        "testing :  15  and  35\n",
        "  t:  8.56217999465  prob:  1.16370660937e-15\n",
        "    SIGNIFICANT\n",
        "Comparing  25  to optimal solution: \n",
        "t:  17.3870231506  prob:  7.17192086156e-45\n",
        "    SIGNIFICANT\n",
        "testing :  25  and  35\n",
        "  t:  2.14324667387  prob:  0.033062623846\n",
        "    insignficant\n",
        "Comparing  35  to optimal solution: \n",
        "t:  14.0704732941  prob:  1.75491409521e-33\n",
        "    SIGNIFICANT\n",
        "------------------------\n",
        "--------------------------\n",
        "Considering  200  plants\n",
        "Comparing "
       ]
      },
      {
       "output_type": "stream",
       "stream": "stdout",
       "text": [
        " 5  to optimal solution: \n",
        "t:  13.6339866948  prob:  5.43012418784e-32\n",
        "    SIGNIFICANT\n",
        "testing :  5  and  10\n",
        "  t:  5.40155122682  prob:  1.5425184275e-07\n",
        "    SIGNIFICANT\n",
        "testing :  5  and  15\n",
        "  t:  0.324318430943  prob:  0.745969242726\n",
        "    insignficant\n",
        "testing :  5  and  25\n",
        "  t:  9.13352386796  prob:  2.37221624022e-17\n",
        "    SIGNIFICANT\n",
        "testing :  5  and  35\n",
        "  t:  10.2336419659  prob:  9.57740912093e-21\n",
        "    SIGNIFICANT\n",
        "Comparing  10  to optimal solution: \n",
        "t:  10.563364853  prob:  8.58499628291e-22\n",
        "    SIGNIFICANT\n",
        "testing :  10  and  15\n",
        "  t:  -3.72870592735  prob:  0.000238315946795\n",
        "    SIGNIFICANT\n",
        "testing :  10  and  25\n",
        "  t:  6.04799367263  prob:  5.34102578915e-09\n",
        "    SIGNIFICANT\n",
        "testing :  10  and  35\n",
        "  t:  7.06907282722  prob:  1.56487827312e-11\n",
        "    SIGNIFICANT\n",
        "Comparing  15  to optimal solution: \n",
        "t:  10.1441141571  prob:  1.83426280649e-20\n",
        "    SIGNIFICANT\n",
        "testing :  15  and  25\n",
        "  t:  7.24659672895  prob:  5.34882983706e-12\n",
        "    SIGNIFICANT\n",
        "testing :  15  and  35\n",
        "  t:  7.80962640523  prob:  1.59821185259e-13\n",
        "    SIGNIFICANT\n",
        "Comparing  25  to optimal solution: \n",
        "t:  7.1890919001  prob:  7.58697215766e-12\n",
        "    SIGNIFICANT\n",
        "testing :  25  and  35\n",
        "  t:  0.305705658439  prob:  0.760084185501\n",
        "    insignficant\n",
        "Comparing  35  to optimal solution: \n",
        "t:  6.9529372591  prob:  3.12995422954e-11\n",
        "    SIGNIFICANT\n",
        "------------------------\n",
        "--------------------------\n",
        "Considering  500  plants\n",
        "Comparing "
       ]
      },
      {
       "output_type": "stream",
       "stream": "stdout",
       "text": [
        " 5  to optimal solution: \n",
        "t:  16.5966162656  prob:  3.67777431003e-42\n",
        "    SIGNIFICANT\n",
        "testing :  5  and  10\n",
        "  t:  -1.74896287426  prob:  0.0815296153437\n",
        "    insignficant\n",
        "testing :  5  and  15\n",
        "  t:  3.02438184958  prob:  0.00275212569962\n",
        "    SIGNIFICANT\n",
        "testing :  5  and  25\n",
        "  t:  14.9713525358  prob:  1.4262084272e-36\n",
        "    SIGNIFICANT\n",
        "testing :  5  and  35\n",
        "  t:  15.1577158658  prob:  3.26234488841e-37\n",
        "    SIGNIFICANT\n",
        "Comparing  10  to optimal solution: \n",
        "t:  17.7452141101  prob:  4.27985290947e-46\n",
        "    SIGNIFICANT\n",
        "testing :  10  and  15\n",
        "  t:  5.21864662852  prob:  3.79884793523e-07\n",
        "    SIGNIFICANT\n",
        "testing :  10  and  25\n",
        "  t:  16.2098120383  prob:  7.84882055062e-41\n",
        "    SIGNIFICANT\n",
        "testing :  10  and  35\n",
        "  t:  16.3903056181  prob:  1.88094269576e-41\n",
        "    SIGNIFICANT\n",
        "Comparing  15  to optimal solution: \n",
        "t:  13.9289947623  prob:  5.34557340332e-33\n",
        "    SIGNIFICANT\n",
        "testing :  15  and  25\n",
        "  t:  12.2418695543  prob:  2.73748023598e-27\n",
        "    SIGNIFICANT\n",
        "testing :  15  and  35\n",
        "  t:  12.4191132723  prob:  6.98628672999e-28\n",
        "    SIGNIFICANT\n",
        "Comparing  25  to optimal solution: \n",
        "t:  44.1022312874  prob:  1.18041024984e-119\n",
        "    SIGNIFICANT\n",
        "testing :  25  and  35\n",
        "  t:  3.3580717626  prob:  0.000907824600767\n",
        "    SIGNIFICANT\n",
        "Comparing  35  to optimal solution: \n",
        "t:  16.2049322796  prob:  8.1579624869e-41\n",
        "    SIGNIFICANT\n",
        "------------------------\n"
       ]
      }
     ],
     "prompt_number": 8
    },
    {
     "cell_type": "code",
     "collapsed": false,
     "input": [
      "cps = [500]\n",
      "sps = [5, 10, 15, 25, 35]\n",
      "\n",
      "costsColumn = 'Top_level_costs_regio_central'\n",
      "runtimeColumn = 'Total_runtime_regio_central'\n",
      "\n",
      "allOffSetCosts = { 5 : [],\n",
      "                   10: [],\n",
      "                   15 : [],\n",
      "                   25 : [],\n",
      "                   35 : [] }# for sp = 5 a list (50, 200, 500), for sp = 10 a list (50, 200, 500) ...\n",
      "\n",
      "allOffSetCostsStd = { 5 : [],\n",
      "                   10: [],\n",
      "                   15: [],\n",
      "                   25 : [],\n",
      "                   35 : [] }# for sp = 5 a list (50, 200, 500), for sp = 10 a list (50, 200, 500) ...\n",
      "\n",
      "allRuntimes = { 5 : [],\n",
      "                   10: [],\n",
      "                   15 : [],\n",
      "                   25 : [],\n",
      "                   35 : [] }# for sp = 5 a list (50, 200, 500), for sp = 10 a list (50, 200, 500) ...\n",
      "for cp in cps:\n",
      "    # load central file \n",
      "    \n",
      "    dataCentral = np.genfromtxt(prefix+'cp_'+str(cp)+'_.csv', dtype=float, delimiter=';', skip_header=0,names=True)\n",
      "    costsCentral = au.readCol(dataCentral,  'Top_level_costs_central') \n",
      "    meanCostsCentral = np.mean(costsCentral)\n",
      "    \n",
      "    runtimeCentral = au.readCol(dataCentral, 'Total_runtime_central')\n",
      "    meanTimeCentral = np.mean(runtimeCentral)\n",
      "        \n",
      "    print 'For ' + str(cp) + ' plants: Opt. Costs ', meanCostsCentral, ' Runtime Central ', meanTimeCentral\n",
      "    \n",
      "    allSpCosts = []\n",
      "    allExcessCosts = []\n",
      "    \n",
      "    for sp in sps:\n",
      "        fileName = prefix + 'sps_'+str(sp)+ '_cp_'+str(cp)+'_.csv'\n",
      "        \n",
      "        data = np.genfromtxt(fileName,dtype=float, delimiter=';', skip_header=0,names=True)\n",
      "        costs = au.readCol(data, costsColumn)\n",
      "        \n",
      "        allExtraCosts = costs - costsCentral\n",
      "        meanExtraCosts = np.mean(allExtraCosts)\n",
      "        overShoot = meanExtraCosts / meanCostsCentral\n",
      "        stdExtraCosts = np.sqrt(np.std(allExtraCosts))\n",
      "        stdExtraCosts = 0.25 * np.std(allExtraCosts)\n",
      "      \n",
      "        allOffSetCosts[sp] += [meanExtraCosts / cp]\n",
      "        allOffSetCostsStd[sp] += [stdExtraCosts / cp]\n",
      "                                  \n",
      "        allExcessCosts += [meanExtraCosts]\n",
      "        \n",
      "        runtime = au.readCol(data, runtimeColumn) \n",
      "        meanTime = np.mean(runtime)\n",
      "\n",
      "        print '  '+str(sp) + ' Sps: ' + str(meanExtraCosts) + ' (+ ' + str(overShoot) + ' ; + ' + str(meanExtraCosts) + ' \u20ac ) / ' + str(meanTime)\n",
      "    kernel = GPy.kern.RBF(input_dim=1, variance=1., lengthscale=1.)\n",
      "    m = GPy.models.GPRegression(np.atleast_2d(sps).T, np.atleast_2d(allExcessCosts).T, kernel)\n",
      "    m.optimize_restarts(num_restarts=10)\n",
      "    m.plot()\n",
      "    xlabel('\\# sampling points')\n",
      "    ylabel('Extra costs per plant (EUR)')\n",
      "    #title('Extra costs for \\#sampling points')\n",
      "    savefig('sampling-extra-costs'+str(cp)+'.pdf')\n",
      "    figure()"
     ],
     "language": "python",
     "metadata": {},
     "outputs": [
      {
       "output_type": "stream",
       "stream": "stdout",
       "text": [
        "For 500 plants: Opt. Costs  21157.7182061  Runtime Central  208.723564949\n",
        "  5 Sps: 235.814373296 (+ 0.0111455484471 ; + 235.814373296 \u20ac ) / 244.003133418"
       ]
      },
      {
       "output_type": "stream",
       "stream": "stdout",
       "text": [
        "\n",
        "  10 Sps: 270.521196574 (+ 0.0127859343781 ; + 270.521196574 \u20ac ) / 357.594805563"
       ]
      },
      {
       "output_type": "stream",
       "stream": "stdout",
       "text": [
        "\n",
        "  15 Sps: 182.204463221 (+ 0.0086117255862 ; + 182.204463221 \u20ac ) / 470.31848035"
       ]
      },
      {
       "output_type": "stream",
       "stream": "stdout",
       "text": [
        "\n",
        "  25 Sps: 22.7813884284 (+ 0.00107674127269 ; + 22.7813884284 \u20ac ) / 694.298222776"
       ]
      },
      {
       "output_type": "stream",
       "stream": "stdout",
       "text": [
        "\n",
        "  35 Sps: 18.831851436 (+ 0.000890070056352 ; + 18.831851436 \u20ac ) / 934.632445593"
       ]
      },
      {
       "output_type": "stream",
       "stream": "stdout",
       "text": [
        "\n",
        "Optimization restart 1/10, f = 29.2793853059"
       ]
      },
      {
       "output_type": "stream",
       "stream": "stdout",
       "text": [
        "\n",
        "Optimization restart 2/10, f = 29.3367334222"
       ]
      },
      {
       "output_type": "stream",
       "stream": "stdout",
       "text": [
        "\n",
        "Optimization restart 3/10, f = 33.0749381241\n",
        "Optimization restart 4/10, f = 33.0860770604"
       ]
      },
      {
       "output_type": "stream",
       "stream": "stdout",
       "text": [
        "\n",
        "Optimization restart 5/10, f = 29.3367334218"
       ]
      },
      {
       "output_type": "stream",
       "stream": "stdout",
       "text": [
        "\n",
        "Optimization restart 6/10, f = 31.9926001141\n",
        "Optimization restart 7/10, f = 29.2793770319"
       ]
      },
      {
       "output_type": "stream",
       "stream": "stdout",
       "text": [
        "\n",
        "Optimization restart 8/10, f = 31.9971015787\n",
        "Optimization restart 9/10, f = 33.0831693011"
       ]
      },
      {
       "output_type": "stream",
       "stream": "stdout",
       "text": [
        "\n",
        "Optimization restart 10/10, f = 29.2793776557"
       ]
      },
      {
       "output_type": "stream",
       "stream": "stdout",
       "text": [
        "\n"
       ]
      },
      {
       "output_type": "display_data",
       "png": "[encoded data removed]"
      }
     ],
     "prompt_number": 5
    },
    {
     "cell_type": "code",
     "collapsed": false,
     "input": [
      "from pylab import arange,pi,sin,cos,sqrt\n",
      "fig_width_pt = 400  # Get this from LaTeX using \\showthe\\columnwidth\n",
      "inches_per_pt = 1.0/72.27               # Convert pt to inch\n",
      "golden_mean = (sqrt(5)-1.0)/2.0         # Aesthetic ratio\n",
      "fig_width = fig_width_pt*inches_per_pt  # width in inches\n",
      "fig_height = fig_width*golden_mean      # height in inches\n",
      "fig_size =  [fig_width,fig_height]\n",
      "params = {'backend': 'ps',\n",
      "          'axes.labelsize': 10,\n",
      "          'text.fontsize': 10,\n",
      "          'legend.fontsize': 10,\n",
      "          'xtick.labelsize': 8,\n",
      "          'ytick.labelsize': 8,\n",
      "          'text.usetex': True,\n",
      "          'figure.figsize': fig_size}\n",
      "pylab.rcParams.update(params)"
     ],
     "language": "python",
     "metadata": {},
     "outputs": [],
     "prompt_number": 10
    },
    {
     "cell_type": "code",
     "collapsed": false,
     "input": [
      "cps = [500]\n",
      "sps = [5, 10, 15, 25, 35]\n",
      "\n",
      "costsColumn = 'Top_level_costs_regio_central'\n",
      "runtimeColumn = 'Total_runtime_regio_central'\n",
      "\n",
      "allOffSetCosts = { 5 : [],\n",
      "                   10: [],\n",
      "                   15 : [],\n",
      "                   25 : [],\n",
      "                   35 : [] }# for sp = 5 a list (50, 200, 500), for sp = 10 a list (50, 200, 500) ...\n",
      "\n",
      "allOffSetCostsStd = { 5 : [],\n",
      "                   10: [],\n",
      "                   15: [],\n",
      "                   25 : [],\n",
      "                   35 : [] }# for sp = 5 a list (50, 200, 500), for sp = 10 a list (50, 200, 500) ...\n",
      "\n",
      "allRuntimes = { 5 : [],\n",
      "                   10: [],\n",
      "                   15 : [],\n",
      "                   25 : [],\n",
      "                   35 : [] }# for sp = 5 a list (50, 200, 500), for sp = 10 a list (50, 200, 500) ...\n",
      "for cp in cps:\n",
      "    # load central file \n",
      "    \n",
      "    dataCentral = np.genfromtxt(prefix+'cp_'+str(cp)+'_.csv', dtype=float, delimiter=';', skip_header=0,names=True)\n",
      "    costsCentral = au.readCol(dataCentral,  'Top_level_costs_central') \n",
      "    meanCostsCentral = np.mean(costsCentral)\n",
      "    \n",
      "    runtimeCentral = au.readCol(dataCentral, 'Total_runtime_central')\n",
      "    meanTimeCentral = np.mean(runtimeCentral)\n",
      "        \n",
      "    print 'For ' + str(cp) + ' plants: Opt. Costs ', meanCostsCentral, ' Runtime Central ', meanTimeCentral\n",
      "    \n",
      "    allSpCosts = []\n",
      "    allExcessCosts = []\n",
      "    \n",
      "    allInputTimes = []\n",
      "    for sp in sps:\n",
      "        fileName = prefix + 'sps_'+str(sp)+ '_cp_'+str(cp)+'_.csv'\n",
      "        \n",
      "        data = np.genfromtxt(fileName,dtype=float, delimiter=';', skip_header=0,names=True)\n",
      "        costs = au.readCol(data, costsColumn)\n",
      "        \n",
      "        allExtraCosts = costs - costsCentral\n",
      "        meanExtraCosts = np.mean(allExtraCosts)\n",
      "        overShoot = meanExtraCosts / meanCostsCentral\n",
      "        stdExtraCosts = np.sqrt(np.std(allExtraCosts))\n",
      "        stdExtraCosts = 0.25 * np.std(allExtraCosts)\n",
      "      \n",
      "        allOffSetCosts[sp] += [meanExtraCosts / cp]\n",
      "        allOffSetCostsStd[sp] += [stdExtraCosts / cp]\n",
      "                                  \n",
      "        allExcessCosts += [meanExtraCosts]\n",
      "        \n",
      "        \n",
      "        runtime = au.readCol(data, runtimeColumn) \n",
      "        meanTime = np.mean(runtime)\n",
      "        \n",
      "        allInputTimes += [meanTime]\n",
      "\n",
      "        print '  '+str(sp) + ' Sps: ' + str(meanExtraCosts) + ' (+ ' + str(overShoot) + ' ; + ' + str(meanExtraCosts) + ' \u20ac ) / ' + str(meanTime)\n",
      "    kernel = GPy.kern.Brownian(input_dim=1)\n",
      "    m = GPy.models.GPRegression(np.atleast_2d(allInputTimes).T, np.atleast_2d(allExcessCosts).T, kernel)\n",
      "    m.optimize_restarts(num_restarts=10)\n",
      "    m.plot()\n",
      "    xlabel('\\# sampling points')\n",
      "    ylabel('Extra costs per plant (EUR)')\n",
      "    #title('Extra costs for \\#sampling points')\n",
      "    savefig('sampling-extra-time'+str(cp)+'.pdf')\n",
      "    figure()"
     ],
     "language": "python",
     "metadata": {},
     "outputs": [
      {
       "output_type": "stream",
       "stream": "stdout",
       "text": [
        "For 500 plants: Opt. Costs  21157.7182061  Runtime Central  208.723564949\n",
        "  5 Sps: 235.814373296 (+ 0.0111455484471 ; + 235.814373296 \u20ac ) / 244.003133418"
       ]
      },
      {
       "output_type": "stream",
       "stream": "stdout",
       "text": [
        "\n",
        "  10 Sps: 270.521196574 (+ 0.0127859343781 ; + 270.521196574 \u20ac ) / 357.594805563"
       ]
      },
      {
       "output_type": "stream",
       "stream": "stdout",
       "text": [
        "\n",
        "  15 Sps: 182.204463221 (+ 0.0086117255862 ; + 182.204463221 \u20ac ) / 470.31848035"
       ]
      },
      {
       "output_type": "stream",
       "stream": "stdout",
       "text": [
        "\n",
        "  25 Sps: 22.7813884284 (+ 0.00107674127269 ; + 22.7813884284 \u20ac ) / 694.298222776"
       ]
      },
      {
       "output_type": "stream",
       "stream": "stdout",
       "text": [
        "\n",
        "  35 Sps: 18.831851436 (+ 0.000890070056352 ; + 18.831851436 \u20ac ) / 934.632445593"
       ]
      },
      {
       "output_type": "stream",
       "stream": "stdout",
       "text": [
        "\n",
        "Optimization restart 1/10, f = 31.1032556492\n",
        "Optimization restart 2/10, f = 31.1032566267\n",
        "Optimization restart 3/10, f = 31.1032506195"
       ]
      },
      {
       "output_type": "stream",
       "stream": "stdout",
       "text": [
        "\n",
        "Optimization restart 4/10, f = 31.1032563493\n",
        "Optimization restart 5/10, f = 31.1032555507\n",
        "Optimization restart 6/10, f = 31.1032519085"
       ]
      },
      {
       "output_type": "stream",
       "stream": "stdout",
       "text": [
        "\n",
        "Optimization restart 7/10, f = 31.1032524311\n",
        "Optimization restart 8/10, f = 31.1032560239\n",
        "Optimization restart 9/10, f = 31.1032496756"
       ]
      },
      {
       "output_type": "stream",
       "stream": "stdout",
       "text": [
        "\n",
        "Optimization restart 10/10, f = 31.1032572718\n"
       ]
      },
      {
       "output_type": "display_data",
       "png": "[encoded data removed]"
      }
     ],
     "prompt_number": 10
    },
    {
     "cell_type": "code",
     "collapsed": false,
     "input": [],
     "language": "python",
     "metadata": {},
     "outputs": []
    }
   ],
   "metadata": {}
  }
 ]
}